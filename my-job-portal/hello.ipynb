{
 "cells": [
  {
   "cell_type": "code",
   "execution_count": 1,
   "metadata": {},
   "outputs": [
    {
     "name": "stdout",
     "output_type": "stream",
     "text": [
      "Hello\n"
     ]
    }
   ],
   "source": [
    "print(\"Hello\")"
   ]
  },
  {
   "cell_type": "code",
   "execution_count": 8,
   "metadata": {},
   "outputs": [
    {
     "name": "stdout",
     "output_type": "stream",
     "text": [
      "9.0\n"
     ]
    }
   ],
   "source": [
    "def sum(n1:int,n2:float):\n",
    "    return (n1+n2)\n",
    "\n",
    "print(sum(4,5.00))"
   ]
  },
  {
   "cell_type": "code",
   "execution_count": 9,
   "metadata": {},
   "outputs": [
    {
     "data": {
      "text/plain": [
       "17"
      ]
     },
     "execution_count": 9,
     "metadata": {},
     "output_type": "execute_result"
    }
   ],
   "source": [
    "20-3"
   ]
  },
  {
   "cell_type": "code",
   "execution_count": 1,
   "metadata": {},
   "outputs": [
    {
     "name": "stdout",
     "output_type": "stream",
     "text": [
      "hello Ujjal\n"
     ]
    }
   ],
   "source": [
    "print(\"hello Ujjal\")"
   ]
  },
  {
   "cell_type": "code",
   "execution_count": 5,
   "metadata": {},
   "outputs": [
    {
     "name": "stdout",
     "output_type": "stream",
     "text": [
      "('BMW', 'BMW', 'AUDI', 'MARCEDES')\n"
     ]
    }
   ],
   "source": [
    "tup1 = (\"BMW\",\"BMW\",\"AUDI\",\"MARCEDES\")\n",
    "print(tup1)"
   ]
  },
  {
   "cell_type": "code",
   "execution_count": 2,
   "metadata": {},
   "outputs": [
    {
     "name": "stdout",
     "output_type": "stream",
     "text": [
      "3\n"
     ]
    }
   ],
   "source": [
    "print(len(tup1))"
   ]
  },
  {
   "cell_type": "code",
   "execution_count": null,
   "metadata": {},
   "outputs": [],
   "source": [
    "a = lambda x: x * 10"
   ]
  },
  {
   "cell_type": "code",
   "execution_count": 8,
   "metadata": {},
   "outputs": [
    {
     "name": "stdout",
     "output_type": "stream",
     "text": [
      "50\n"
     ]
    }
   ],
   "source": [
    "print(a(5))"
   ]
  },
  {
   "cell_type": "code",
   "execution_count": 9,
   "metadata": {},
   "outputs": [
    {
     "name": "stdout",
     "output_type": "stream",
     "text": [
      "BMW\n",
      "Audi\n"
     ]
    }
   ],
   "source": [
    "tup1 = (\"BMW\",\"Audi\",\"Marcedes\")\n",
    "myTup =iter(tup1)\n",
    "print(next(myTup))\n",
    "print(next(myTup))"
   ]
  },
  {
   "cell_type": "code",
   "execution_count": 10,
   "metadata": {},
   "outputs": [],
   "source": [
    "dict1 = {1:\"apple\",2:\"organge\",3:\"banana\",4:\"kiwi\"}"
   ]
  },
  {
   "cell_type": "code",
   "execution_count": 11,
   "metadata": {},
   "outputs": [
    {
     "name": "stdout",
     "output_type": "stream",
     "text": [
      "{1: 'apple', 2: 'organge', 3: 'banana', 4: 'kiwi'}\n"
     ]
    }
   ],
   "source": [
    "print(dict1)"
   ]
  },
  {
   "cell_type": "code",
   "execution_count": 12,
   "metadata": {},
   "outputs": [
    {
     "name": "stdout",
     "output_type": "stream",
     "text": [
      "apple\n"
     ]
    }
   ],
   "source": [
    "print(dict1.get(1))"
   ]
  },
  {
   "cell_type": "code",
   "execution_count": 14,
   "metadata": {},
   "outputs": [
    {
     "name": "stdout",
     "output_type": "stream",
     "text": [
      "Item number is: 1 --> value is = apple\n",
      "Item number is: 2 --> value is = organge\n",
      "Item number is: 3 --> value is = banana\n",
      "Item number is: 4 --> value is = kiwi\n"
     ]
    }
   ],
   "source": [
    "for x,y in dict1.items():\n",
    "    print(f\"Item number is: {x} --> value is = {y}\")"
   ]
  },
  {
   "cell_type": "code",
   "execution_count": 1,
   "metadata": {},
   "outputs": [
    {
     "name": "stdout",
     "output_type": "stream",
     "text": [
      "Lizard\n",
      "Elephant\n"
     ]
    }
   ],
   "source": [
    "animals = [{\"name\": \"Dog\", \"age\": 11}, {\"name\": \"Lizard\", \"age\":12}, {\"name\": \"Lion\", \"age\":23},{\"name\": \"Elephant\", \"age\": 34}]\n",
    "\n",
    "for animals in filter(lambda i: i[\"age\"] % 2 ==0, animals):\n",
    "    print(animals[\"name\"])"
   ]
  },
  {
   "cell_type": "code",
   "execution_count": 14,
   "metadata": {},
   "outputs": [],
   "source": [
    "country = ['India', \"Bangladesh\", \"Canada\", \"Japan\", \"Israel\"]"
   ]
  },
  {
   "cell_type": "code",
   "execution_count": 16,
   "metadata": {},
   "outputs": [
    {
     "name": "stdout",
     "output_type": "stream",
     "text": [
      "Israel\n",
      "Japan\n",
      "Canada\n",
      "Bangladesh\n",
      "India\n"
     ]
    }
   ],
   "source": [
    "while country:\n",
    "    print(country.pop())"
   ]
  },
  {
   "cell_type": "code",
   "execution_count": 17,
   "metadata": {},
   "outputs": [
    {
     "name": "stdout",
     "output_type": "stream",
     "text": [
      "17\n",
      "15\n",
      "13\n",
      "11\n",
      "9\n",
      "7\n",
      "5\n",
      "3\n",
      "1\n",
      "-1\n"
     ]
    }
   ],
   "source": [
    "num = 19\n",
    "while num > 0: num -=2; print(num)"
   ]
  },
  {
   "cell_type": "code",
   "execution_count": 19,
   "metadata": {},
   "outputs": [
    {
     "name": "stdout",
     "output_type": "stream",
     "text": [
      "0 The\n",
      "1 brown\n",
      "2 for\n",
      "3 jumped\n",
      "4 over\n",
      "5 the\n",
      "6 lazy\n",
      "7 dog\n"
     ]
    }
   ],
   "source": [
    "for key,value in enumerate(['The', 'brown', 'for', 'jumped', 'over', 'the', 'lazy', 'dog']):\n",
    "    print(key,value)"
   ]
  },
  {
   "cell_type": "code",
   "execution_count": 25,
   "metadata": {},
   "outputs": [
    {
     "name": "stdout",
     "output_type": "stream",
     "text": [
      "('Linoel', 'Ronaldo')\n",
      "('Cristiano', 'Messi')\n",
      "('Mohamed', 'Neymar')\n"
     ]
    }
   ],
   "source": [
    "from itertools import zip_longest\n",
    "\n",
    "first = ['Linoel', 'Cristiano' , 'Mohamed', 'Linoel', 'Cristiano' , 'Mohamed']\n",
    "\n",
    "second = ['Ronaldo', 'Messi', 'Neymar']\n",
    "\n",
    "for i in zip(first,second):\n",
    "    print(i)"
   ]
  },
  {
   "cell_type": "code",
   "execution_count": 32,
   "metadata": {},
   "outputs": [
    {
     "name": "stdout",
     "output_type": "stream",
     "text": [
      "('S', 'I', 'M', 'P', 'L')\n"
     ]
    }
   ],
   "source": [
    "a = ('S','I', 'M', 'P', 'L', 'I', \"L\", 'E', 'A', 'M', 'P')\n",
    "x =slice(5)\n",
    "print(a[x])"
   ]
  },
  {
   "cell_type": "code",
   "execution_count": 33,
   "metadata": {},
   "outputs": [
    {
     "name": "stdout",
     "output_type": "stream",
     "text": [
      "10\n"
     ]
    }
   ],
   "source": [
    "def absolute(x):\n",
    "    return (x if x >= 0 else -x)\n",
    "\n",
    "print(absolute(-10))"
   ]
  },
  {
   "cell_type": "code",
   "execution_count": 34,
   "metadata": {},
   "outputs": [
    {
     "name": "stdout",
     "output_type": "stream",
     "text": [
      "8\n"
     ]
    }
   ],
   "source": [
    "add = lambda a,b: a+b\n",
    "\n",
    "print(add(5, 3))"
   ]
  },
  {
   "cell_type": "code",
   "execution_count": 37,
   "metadata": {},
   "outputs": [
    {
     "name": "stdout",
     "output_type": "stream",
     "text": [
      "Even\n"
     ]
    }
   ],
   "source": [
    "checkEvenOrOdd = lambda x: x % 2==0 and \"Even\" or \"Odd\"\n",
    "\n",
    "print(checkEvenOrOdd(10))"
   ]
  },
  {
   "cell_type": "code",
   "execution_count": 39,
   "metadata": {},
   "outputs": [
    {
     "name": "stdout",
     "output_type": "stream",
     "text": [
      "[20, 80, 100, 120, 88, 66, 114, 174, 90, 64]\n"
     ]
    }
   ],
   "source": [
    "list1 = [10,40,50,60,44,33,57,87,45,32]\n",
    "\n",
    "newList = list(map(lambda x: x*2,list1))\n",
    "\n",
    "print(newList)"
   ]
  },
  {
   "cell_type": "code",
   "execution_count": null,
   "metadata": {},
   "outputs": [],
   "source": []
  }
 ],
 "metadata": {
  "kernelspec": {
   "display_name": "Python 3",
   "language": "python",
   "name": "python3"
  },
  "language_info": {
   "codemirror_mode": {
    "name": "ipython",
    "version": 3
   },
   "file_extension": ".py",
   "mimetype": "text/x-python",
   "name": "python",
   "nbconvert_exporter": "python",
   "pygments_lexer": "ipython3",
   "version": "3.13.1"
  }
 },
 "nbformat": 4,
 "nbformat_minor": 2
}
